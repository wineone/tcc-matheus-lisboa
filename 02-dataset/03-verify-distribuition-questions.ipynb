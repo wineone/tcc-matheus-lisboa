{
 "cells": [
  {
   "cell_type": "markdown",
   "id": "6846aaa1",
   "metadata": {},
   "source": [
    "## Notebook to make a exporatory analysis of the dataset that was extracted"
   ]
  },
  {
   "cell_type": "code",
   "execution_count": 1,
   "id": "840a9042",
   "metadata": {},
   "outputs": [],
   "source": [
    "import json\n",
    "import seaborn as sns\n",
    "import pandas as pd\n",
    "import glob\n",
    "from matplotlib import pyplot as plt\n",
    "sns.set(font_scale=1.3)"
   ]
  },
  {
   "cell_type": "markdown",
   "id": "82383063",
   "metadata": {},
   "source": [
    "## Reading the data"
   ]
  },
  {
   "cell_type": "code",
   "execution_count": 2,
   "id": "d62b0cd2",
   "metadata": {},
   "outputs": [],
   "source": [
    "all_questions = []\n",
    "\n",
    "for arq_json in glob.glob(\"data/cleaned/*.json\"):\n",
    "    with open(arq_json,'r') as file:\n",
    "        all_questions.extend(json.loads(file.read()))\n",
    "        \n",
    "data_df = pd.DataFrame(all_questions)"
   ]
  },
  {
   "cell_type": "code",
   "execution_count": 3,
   "id": "6714db2d",
   "metadata": {},
   "outputs": [
    {
     "data": {
      "text/html": [
       "<div>\n",
       "<style scoped>\n",
       "    .dataframe tbody tr th:only-of-type {\n",
       "        vertical-align: middle;\n",
       "    }\n",
       "\n",
       "    .dataframe tbody tr th {\n",
       "        vertical-align: top;\n",
       "    }\n",
       "\n",
       "    .dataframe thead th {\n",
       "        text-align: right;\n",
       "    }\n",
       "</style>\n",
       "<table border=\"1\" class=\"dataframe\">\n",
       "  <thead>\n",
       "    <tr style=\"text-align: right;\">\n",
       "      <th></th>\n",
       "      <th>description</th>\n",
       "      <th>alternatives</th>\n",
       "      <th>year</th>\n",
       "      <th>subject</th>\n",
       "      <th>ground_truth</th>\n",
       "      <th>index_question</th>\n",
       "    </tr>\n",
       "  </thead>\n",
       "  <tbody>\n",
       "    <tr>\n",
       "      <th>0</th>\n",
       "      <td>Questão 4) A Minor Bird I have wished a bird w...</td>\n",
       "      <td>[A) culpa por não poder cuidar do pássaro., B)...</td>\n",
       "      <td>2020</td>\n",
       "      <td>Linguagens, códigos e suas tecnologias</td>\n",
       "      <td>D</td>\n",
       "      <td>4</td>\n",
       "    </tr>\n",
       "    <tr>\n",
       "      <th>1</th>\n",
       "      <td>Questão 5) Finally, Aisha finished with her cu...</td>\n",
       "      <td>[A) reforçam um padrão de beleza., B) retratam...</td>\n",
       "      <td>2020</td>\n",
       "      <td>Linguagens, códigos e suas tecnologias</td>\n",
       "      <td>C</td>\n",
       "      <td>5</td>\n",
       "    </tr>\n",
       "    <tr>\n",
       "      <th>2</th>\n",
       "      <td>Questão 01) Pablo Pueblo Regresa un hombre en ...</td>\n",
       "      <td>[A) contrapor a individualidade de um sujeito ...</td>\n",
       "      <td>2020</td>\n",
       "      <td>Linguagens, códigos e suas tecnologias</td>\n",
       "      <td>A</td>\n",
       "      <td>6</td>\n",
       "    </tr>\n",
       "    <tr>\n",
       "      <th>3</th>\n",
       "      <td>Questão 4) Oye, Pito, ésta es: la vida bruta d...</td>\n",
       "      <td>[A) rejeição da língua utilizada por seus ante...</td>\n",
       "      <td>2020</td>\n",
       "      <td>Linguagens, códigos e suas tecnologias</td>\n",
       "      <td>E</td>\n",
       "      <td>9</td>\n",
       "    </tr>\n",
       "    <tr>\n",
       "      <th>4</th>\n",
       "      <td>Questão 5) Poco después apareció en casa de El...</td>\n",
       "      <td>[A) determinação para conduzir discussões pess...</td>\n",
       "      <td>2020</td>\n",
       "      <td>Linguagens, códigos e suas tecnologias</td>\n",
       "      <td>E</td>\n",
       "      <td>10</td>\n",
       "    </tr>\n",
       "    <tr>\n",
       "      <th>...</th>\n",
       "      <td>...</td>\n",
       "      <td>...</td>\n",
       "      <td>...</td>\n",
       "      <td>...</td>\n",
       "      <td>...</td>\n",
       "      <td>...</td>\n",
       "    </tr>\n",
       "    <tr>\n",
       "      <th>1001</th>\n",
       "      <td>QuESTÃO 167) Em um jogo disputado em uma mesa ...</td>\n",
       "      <td>[A) Arthur, pois a soma que escolheu é a menor...</td>\n",
       "      <td>2011</td>\n",
       "      <td>Matemática e suas tecnologias</td>\n",
       "      <td>C</td>\n",
       "      <td>172</td>\n",
       "    </tr>\n",
       "    <tr>\n",
       "      <th>1002</th>\n",
       "      <td>QuESTÃO 168) É possível usar água ou comida pa...</td>\n",
       "      <td>[A) 20 mL., B) 24 mL., C) 100 mL., D) 120 mL.,...</td>\n",
       "      <td>2011</td>\n",
       "      <td>Matemática e suas tecnologias</td>\n",
       "      <td>C</td>\n",
       "      <td>173</td>\n",
       "    </tr>\n",
       "    <tr>\n",
       "      <th>1003</th>\n",
       "      <td>QuESTÃO 171) Nos últimos cinco anos, 32 mil mu...</td>\n",
       "      <td>[A) 4 mil., B) 9 mil., C) 21 mil., D) 35 mil.,...</td>\n",
       "      <td>2011</td>\n",
       "      <td>Matemática e suas tecnologias</td>\n",
       "      <td>D</td>\n",
       "      <td>176</td>\n",
       "    </tr>\n",
       "    <tr>\n",
       "      <th>1004</th>\n",
       "      <td>QuESTÃO 174) O setor de recursos humanos de um...</td>\n",
       "      <td>[A) 24., B) 31., C) 32., D) 88., E) 89.]</td>\n",
       "      <td>2011</td>\n",
       "      <td>Matemática e suas tecnologias</td>\n",
       "      <td>E</td>\n",
       "      <td>179</td>\n",
       "    </tr>\n",
       "    <tr>\n",
       "      <th>1005</th>\n",
       "      <td>QuESTÃO 179) Uma indústria fabrica um único ti...</td>\n",
       "      <td>[A) 0, B) 1, C) 3, D) 4, E) 5]</td>\n",
       "      <td>2011</td>\n",
       "      <td>Matemática e suas tecnologias</td>\n",
       "      <td>D</td>\n",
       "      <td>184</td>\n",
       "    </tr>\n",
       "  </tbody>\n",
       "</table>\n",
       "<p>1006 rows × 6 columns</p>\n",
       "</div>"
      ],
      "text/plain": [
       "                                            description  \\\n",
       "0     Questão 4) A Minor Bird I have wished a bird w...   \n",
       "1     Questão 5) Finally, Aisha finished with her cu...   \n",
       "2     Questão 01) Pablo Pueblo Regresa un hombre en ...   \n",
       "3     Questão 4) Oye, Pito, ésta es: la vida bruta d...   \n",
       "4     Questão 5) Poco después apareció en casa de El...   \n",
       "...                                                 ...   \n",
       "1001  QuESTÃO 167) Em um jogo disputado em uma mesa ...   \n",
       "1002  QuESTÃO 168) É possível usar água ou comida pa...   \n",
       "1003  QuESTÃO 171) Nos últimos cinco anos, 32 mil mu...   \n",
       "1004  QuESTÃO 174) O setor de recursos humanos de um...   \n",
       "1005  QuESTÃO 179) Uma indústria fabrica um único ti...   \n",
       "\n",
       "                                           alternatives  year  \\\n",
       "0     [A) culpa por não poder cuidar do pássaro., B)...  2020   \n",
       "1     [A) reforçam um padrão de beleza., B) retratam...  2020   \n",
       "2     [A) contrapor a individualidade de um sujeito ...  2020   \n",
       "3     [A) rejeição da língua utilizada por seus ante...  2020   \n",
       "4     [A) determinação para conduzir discussões pess...  2020   \n",
       "...                                                 ...   ...   \n",
       "1001  [A) Arthur, pois a soma que escolheu é a menor...  2011   \n",
       "1002  [A) 20 mL., B) 24 mL., C) 100 mL., D) 120 mL.,...  2011   \n",
       "1003  [A) 4 mil., B) 9 mil., C) 21 mil., D) 35 mil.,...  2011   \n",
       "1004           [A) 24., B) 31., C) 32., D) 88., E) 89.]  2011   \n",
       "1005                     [A) 0, B) 1, C) 3, D) 4, E) 5]  2011   \n",
       "\n",
       "                                     subject ground_truth index_question  \n",
       "0     Linguagens, códigos e suas tecnologias            D              4  \n",
       "1     Linguagens, códigos e suas tecnologias            C              5  \n",
       "2     Linguagens, códigos e suas tecnologias            A              6  \n",
       "3     Linguagens, códigos e suas tecnologias            E              9  \n",
       "4     Linguagens, códigos e suas tecnologias            E             10  \n",
       "...                                      ...          ...            ...  \n",
       "1001           Matemática e suas tecnologias            C            172  \n",
       "1002           Matemática e suas tecnologias            C            173  \n",
       "1003           Matemática e suas tecnologias            D            176  \n",
       "1004           Matemática e suas tecnologias            E            179  \n",
       "1005           Matemática e suas tecnologias            D            184  \n",
       "\n",
       "[1006 rows x 6 columns]"
      ]
     },
     "execution_count": 3,
     "metadata": {},
     "output_type": "execute_result"
    }
   ],
   "source": [
    "data_df"
   ]
  },
  {
   "cell_type": "code",
   "execution_count": 4,
   "id": "c50b382c",
   "metadata": {},
   "outputs": [],
   "source": [
    "data_df.to_csv(\"data/cleaned/all_questions_df.csv\",index=False)"
   ]
  },
  {
   "cell_type": "markdown",
   "id": "70d35050",
   "metadata": {},
   "source": [
    "## Analysing the distribuition on the years"
   ]
  },
  {
   "cell_type": "code",
   "execution_count": 5,
   "id": "06d12e91",
   "metadata": {},
   "outputs": [],
   "source": [
    "data_gg = data_df[['year','description']].groupby(\"year\").count().reset_index()\n",
    "years = [2010,2011,2012,2013,2014,2015,2016,2017,2018,2019,2020,2021,2022]\n",
    "for y in years:\n",
    "    if not(str(y) in list(data_gg['year'])):\n",
    "        data_gg.loc[len(data_gg.index)] = [str(y),0]\n",
    "data_gg = data_gg.sort_values(by='year')\n",
    "data_gg = data_gg.rename(columns={\"year\":\"Year\",\"description\":\"Count\"})"
   ]
  },
  {
   "cell_type": "code",
   "execution_count": 6,
   "id": "73a450bd",
   "metadata": {},
   "outputs": [
    {
     "data": {
      "image/png": "[encoded data removed]",
      "text/plain": [
       "<Figure size 640x480 with 1 Axes>"
      ]
     },
     "metadata": {},
     "output_type": "display_data"
    }
   ],
   "source": [
    "sns.set_theme()\n",
    "pp = sns.barplot(data=data_gg,x='Year',y='Count')\n",
    "plt.xticks(rotation=45)\n",
    "# plt.title(\"Distribuição de questões extraídas por ano\")\n",
    "plt.savefig(\"plots/question-year.svg\",format=\"svg\")"
   ]
  },
  {
   "cell_type": "markdown",
   "id": "fab94dc7",
   "metadata": {},
   "source": [
    "## Analysis of the amount of questions by knowledge area"
   ]
  },
  {
   "cell_type": "code",
   "execution_count": 7,
   "id": "30d2723f",
   "metadata": {},
   "outputs": [],
   "source": [
    "data_gg = data_df[['subject','description']].groupby('subject').count().reset_index()\n",
    "data_gg = data_gg.rename(columns = {\"subject\":\"Knowledge area\",\"description\":\"Count\"})"
   ]
  },
  {
   "cell_type": "code",
   "execution_count": 9,
   "id": "c76dc96a",
   "metadata": {},
   "outputs": [],
   "source": [
    "mape = {\n",
    "    \"Ciências da natureza e suas tecnologias\": \"Natural sciences\",\n",
    "    \"Ciências humanas e suas tecnologias\": \"Human sciences\",\n",
    "    \"Linguagens, códigos e suas tecnologias\": \"Language, codes\",\n",
    "    \"Matemática e suas tecnologias\": \"Mathematics\"\n",
    "}\n",
    "\n",
    "data_gg['Knowledge area'] = data_gg['Knowledge area'].apply(lambda x: mape[x])"
   ]
  },
  {
   "cell_type": "code",
   "execution_count": 10,
   "id": "ed4b478c",
   "metadata": {},
   "outputs": [
    {
     "data": {
      "image/png": "[encoded data removed]",
      "text/plain": [
       "<Figure size 640x480 with 1 Axes>"
      ]
     },
     "metadata": {},
     "output_type": "display_data"
    }
   ],
   "source": [
    "sns.set_theme()\n",
    "pp = sns.barplot(data=data_gg,x='Knowledge area',y='Count')\n",
    "plt.xticks(rotation=45)\n",
    "# plt.title(\"Distribuição de questões por área de conhecimento\")\n",
    "plt.savefig(\"plots/question-knowlege-area.svg\",format=\"svg\")"
   ]
  },
  {
   "cell_type": "code",
   "execution_count": null,
   "id": "0a03d487",
   "metadata": {},
   "outputs": [],
   "source": []
  }
 ],
 "metadata": {
  "kernelspec": {
   "display_name": "Python 3 (ipykernel)",
   "language": "python",
   "name": "python3"
  },
  "language_info": {
   "codemirror_mode": {
    "name": "ipython",
    "version": 3
   },
   "file_extension": ".py",
   "mimetype": "text/x-python",
   "name": "python",
   "nbconvert_exporter": "python",
   "pygments_lexer": "ipython3",
   "version": "3.9.16"
  }
 },
 "nbformat": 4,
 "nbformat_minor": 5
}
